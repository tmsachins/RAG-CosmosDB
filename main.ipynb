{
 "cells": [
  {
   "cell_type": "code",
   "execution_count": 10,
   "id": "c93aab44",
   "metadata": {},
   "outputs": [],
   "source": [
    "from dotenv import load_dotenv\n",
    "load_dotenv()\n",
    "import os\n"
   ]
  },
  {
   "cell_type": "code",
   "execution_count": 12,
   "id": "10ceabf2",
   "metadata": {},
   "outputs": [
    {
     "name": "stdout",
     "output_type": "stream",
     "text": [
      "sac-cosmosdbnosql\n"
     ]
    }
   ],
   "source": [
    "print(os.getenv(\"DATABASE_NAME\"))\n",
    "\n",
    "# cosmosdb_connection_string = \n"
   ]
  },
  {
   "cell_type": "code",
   "execution_count": 3,
   "id": "a4b0b7b1",
   "metadata": {},
   "outputs": [],
   "source": [
    "from azure.cosmos import CosmosClient, PartitionKey, exceptions\n",
    "import json"
   ]
  },
  {
   "cell_type": "markdown",
   "id": "ac13a40b",
   "metadata": {},
   "source": [
    "# Creating a connection to CosmosDB via connection string\n",
    "and creating a database if it doesn't exist"
   ]
  },
  {
   "cell_type": "code",
   "execution_count": 8,
   "id": "7762c30b",
   "metadata": {},
   "outputs": [],
   "source": [
    "cosmosdb_connection_string = os.getenv(\"COSMOS_DB_CONNECTION_STRING\")\n",
    "\n",
    "client = CosmosClient.from_connection_string(cosmosdb_connection_string)\n",
    "database_name = os.getenv(\"DATABASE_NAME\")\n",
    "\n",
    "database = client.create_database_if_not_exists(id=database_name)"
   ]
  },
  {
   "cell_type": "markdown",
   "id": "5b84b076",
   "metadata": {},
   "source": [
    "Defining the vector embedding policy"
   ]
  },
  {
   "cell_type": "code",
   "execution_count": 13,
   "id": "8785eaf6",
   "metadata": {},
   "outputs": [],
   "source": [
    "pk = \"/category\"\n",
    "\n",
    "vector_embedding_policy = {\n",
    "    \"vectorEmbeddings\": [\n",
    "        {\n",
    "            \"path\":\"/vector\",\n",
    "            \"dataType\":\"float32\",\n",
    "            \"distanceFunction\":\"cosine\",\n",
    "            \"dimensions\":1536\n",
    "        }\n",
    "    ]\n",
    "}"
   ]
  },
  {
   "cell_type": "code",
   "execution_count": 15,
   "id": "99b4d59c",
   "metadata": {},
   "outputs": [
    {
     "name": "stdout",
     "output_type": "stream",
     "text": [
      "<class 'dict'>\n"
     ]
    }
   ],
   "source": [
    "print(type(vector_embedding_policy))"
   ]
  },
  {
   "cell_type": "markdown",
   "id": "c54e6f0b",
   "metadata": {},
   "source": [
    "Creating a vector index with diskANN algorithm"
   ]
  },
  {
   "cell_type": "code",
   "execution_count": 16,
   "id": "cdb10afb",
   "metadata": {},
   "outputs": [],
   "source": [
    "indexing_policy = {\n",
    "    \"vectorIndexes\": [\n",
    "        {\n",
    "            \"path\":\"/vector\",\n",
    "            \"type\":\"diskANN\"\n",
    "        }\n",
    "\n",
    "    ]\n",
    "}"
   ]
  },
  {
   "cell_type": "code",
   "execution_count": 17,
   "id": "c703d3e3",
   "metadata": {},
   "outputs": [
    {
     "name": "stdout",
     "output_type": "stream",
     "text": [
      "<class 'dict'>\n"
     ]
    }
   ],
   "source": [
    "print(type(indexing_policy))"
   ]
  },
  {
   "cell_type": "markdown",
   "id": "cec9e46b",
   "metadata": {},
   "source": [
    "Creating container inside of the database"
   ]
  },
  {
   "cell_type": "code",
   "execution_count": null,
   "id": "3c93d054",
   "metadata": {},
   "outputs": [
    {
     "name": "stdout",
     "output_type": "stream",
     "text": [
      "(BadRequest) Message: {\"Errors\":[\"A Container Vector Policy has been provided, but the capability has not been enabled on your account. Visit [https://aka.ms/CosmosVectorSearch](https://aka.ms/CosmosVectorSearch) for instructions how to enable it.\"]}\n",
      "ActivityId: c26e8150-8196-474a-8b1a-945d4539c122, Request URI: /apps/ac748466-fedc-4335-a1a2-0f83d31926bc/services/a57c7b1c-3cc9-40b4-a87f-4b81e7b3d8ba/partitions/9982de4e-f59e-42c7-ac16-b9324289aba2/replicas/133934688056866579p, RequestStats: , SDK: Microsoft.Azure.Documents.Common/2.14.0\n",
      "Code: BadRequest\n",
      "Message: Message: {\"Errors\":[\"A Container Vector Policy has been provided, but the capability has not been enabled on your account. Visit [https://aka.ms/CosmosVectorSearch](https://aka.ms/CosmosVectorSearch) for instructions how to enable it.\"]}\n",
      "ActivityId: c26e8150-8196-474a-8b1a-945d4539c122, Request URI: /apps/ac748466-fedc-4335-a1a2-0f83d31926bc/services/a57c7b1c-3cc9-40b4-a87f-4b81e7b3d8ba/partitions/9982de4e-f59e-42c7-ac16-b9324289aba2/replicas/133934688056866579p, RequestStats: , SDK: Microsoft.Azure.Documents.Common/2.14.0\n"
     ]
    }
   ],
   "source": [
    "try:\n",
    "    container_name = os.getenv(\"CONTAINER_NAME\")\n",
    "    \n",
    "    container = database.create_container_if_not_exists(\n",
    "        id=container_name,\n",
    "        partition_key=PartitionKey(path=pk),\n",
    "        indexing_policy=indexing_policy,\n",
    "        vector_embedding_policy=vector_embedding_policy\n",
    "        \n",
    "    )\n",
    "    \n",
    "except Exception as e:\n",
    "    print(e)"
   ]
  },
  {
   "cell_type": "code",
   "execution_count": null,
   "id": "2d2b115c",
   "metadata": {},
   "outputs": [],
   "source": []
  }
 ],
 "metadata": {
  "kernelspec": {
   "display_name": "Python 3",
   "language": "python",
   "name": "python3"
  },
  "language_info": {
   "codemirror_mode": {
    "name": "ipython",
    "version": 3
   },
   "file_extension": ".py",
   "mimetype": "text/x-python",
   "name": "python",
   "nbconvert_exporter": "python",
   "pygments_lexer": "ipython3",
   "version": "3.9.21"
  }
 },
 "nbformat": 4,
 "nbformat_minor": 5
}
